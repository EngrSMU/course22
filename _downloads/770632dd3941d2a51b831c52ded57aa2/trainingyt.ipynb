{
  "cells": [
    {
      "cell_type": "code",
      "execution_count": 1,
      "metadata": {
        "id": "oZWMFutZ1hKu"
      },
      "outputs": [],
      "source": [
        "# For tips on running notebooks in Google Colab, see\n",
        "# https://pytorch.org/tutorials/beginner/colab\n",
        "%matplotlib inline"
      ]
    },
    {
      "cell_type": "markdown",
      "metadata": {
        "id": "R3VTZBpm1hKw"
      },
      "source": [
        "\n",
        "[Introduction](introyt1_tutorial.html) ||\n",
        "[Tensors](tensors_deeper_tutorial.html) ||\n",
        "[Autograd](autogradyt_tutorial.html) ||\n",
        "[Building Models](modelsyt_tutorial.html) ||\n",
        "[TensorBoard Support](tensorboardyt_tutorial.html) ||\n",
        "**Training Models** ||\n",
        "[Model Understanding](captumyt.html)\n",
        "\n",
        "# Training with PyTorch\n",
        "\n",
        "Follow along with the video below or on [youtube](https://www.youtube.com/watch?v=jF43_wj_DCQ)_.\n",
        "\n",
        ".. raw:: html\n",
        "\n",
        "   <div style=\"margin-top:10px; margin-bottom:10px;\">\n",
        "     <iframe width=\"560\" height=\"315\" src=\"https://www.youtube.com/embed/jF43_wj_DCQ\" frameborder=\"0\" allow=\"accelerometer; encrypted-media; gyroscope; picture-in-picture\" allowfullscreen></iframe>\n",
        "   </div>\n",
        "\n",
        "## Introduction\n",
        "\n",
        "In past videos, we’ve discussed and demonstrated:\n",
        "\n",
        "- Building models with the neural network layers and functions of the torch.nn module\n",
        "- The mechanics of automated gradient computation, which is central to\n",
        "  gradient-based model training\n",
        "- Using TensorBoard to visualize training progress and other activities\n",
        "\n",
        "In this video, we’ll be adding some new tools to your inventory:\n",
        "\n",
        "- We’ll get familiar with the dataset and dataloader abstractions, and how\n",
        "  they ease the process of feeding data to your model during a training loop\n",
        "- We’ll discuss specific loss functions and when to use them\n",
        "- We’ll look at PyTorch optimizers, which implement algorithms to adjust\n",
        "  model weights based on the outcome of a loss function\n",
        "\n",
        "Finally, we’ll pull all of these together and see a full PyTorch\n",
        "training loop in action.\n",
        "\n",
        "\n",
        "## Dataset and DataLoader\n",
        "\n",
        "The ``Dataset`` and ``DataLoader`` classes encapsulate the process of\n",
        "pulling your data from storage and exposing it to your training loop in\n",
        "batches.\n",
        "\n",
        "The ``Dataset`` is responsible for accessing and processing single\n",
        "instances of data.\n",
        "\n",
        "The ``DataLoader`` pulls instances of data from the ``Dataset`` (either\n",
        "automatically or with a sampler that you define), collects them in\n",
        "batches, and returns them for consumption by your training loop. The\n",
        "``DataLoader`` works with all kinds of datasets, regardless of the type\n",
        "of data they contain.\n",
        "\n",
        "For this tutorial, we’ll be using the Fashion-MNIST dataset provided by\n",
        "TorchVision. We use ``torchvision.transforms.Normalize()`` to\n",
        "zero-center and normalize the distribution of the image tile content,\n",
        "and download both training and validation data splits.\n"
      ]
    },
    {
      "cell_type": "code",
      "execution_count": 2,
      "metadata": {
        "id": "Acnft5H91hKz",
        "outputId": "7aff36fd-e7be-4f8a-df55-72f6d961b31b",
        "colab": {
          "base_uri": "https://localhost:8080/"
        }
      },
      "outputs": [
        {
          "output_type": "stream",
          "name": "stdout",
          "text": [
            "Downloading http://fashion-mnist.s3-website.eu-central-1.amazonaws.com/train-images-idx3-ubyte.gz\n",
            "Downloading http://fashion-mnist.s3-website.eu-central-1.amazonaws.com/train-images-idx3-ubyte.gz to ./data/FashionMNIST/raw/train-images-idx3-ubyte.gz\n"
          ]
        },
        {
          "output_type": "stream",
          "name": "stderr",
          "text": [
            "100%|██████████| 26421880/26421880 [00:01<00:00, 15855293.30it/s]\n"
          ]
        },
        {
          "output_type": "stream",
          "name": "stdout",
          "text": [
            "Extracting ./data/FashionMNIST/raw/train-images-idx3-ubyte.gz to ./data/FashionMNIST/raw\n",
            "\n",
            "Downloading http://fashion-mnist.s3-website.eu-central-1.amazonaws.com/train-labels-idx1-ubyte.gz\n",
            "Downloading http://fashion-mnist.s3-website.eu-central-1.amazonaws.com/train-labels-idx1-ubyte.gz to ./data/FashionMNIST/raw/train-labels-idx1-ubyte.gz\n"
          ]
        },
        {
          "output_type": "stream",
          "name": "stderr",
          "text": [
            "100%|██████████| 29515/29515 [00:00<00:00, 269947.34it/s]\n"
          ]
        },
        {
          "output_type": "stream",
          "name": "stdout",
          "text": [
            "Extracting ./data/FashionMNIST/raw/train-labels-idx1-ubyte.gz to ./data/FashionMNIST/raw\n",
            "\n",
            "Downloading http://fashion-mnist.s3-website.eu-central-1.amazonaws.com/t10k-images-idx3-ubyte.gz\n",
            "Downloading http://fashion-mnist.s3-website.eu-central-1.amazonaws.com/t10k-images-idx3-ubyte.gz to ./data/FashionMNIST/raw/t10k-images-idx3-ubyte.gz\n"
          ]
        },
        {
          "output_type": "stream",
          "name": "stderr",
          "text": [
            "100%|██████████| 4422102/4422102 [00:00<00:00, 4920693.82it/s]\n"
          ]
        },
        {
          "output_type": "stream",
          "name": "stdout",
          "text": [
            "Extracting ./data/FashionMNIST/raw/t10k-images-idx3-ubyte.gz to ./data/FashionMNIST/raw\n",
            "\n",
            "Downloading http://fashion-mnist.s3-website.eu-central-1.amazonaws.com/t10k-labels-idx1-ubyte.gz\n",
            "Downloading http://fashion-mnist.s3-website.eu-central-1.amazonaws.com/t10k-labels-idx1-ubyte.gz to ./data/FashionMNIST/raw/t10k-labels-idx1-ubyte.gz\n"
          ]
        },
        {
          "output_type": "stream",
          "name": "stderr",
          "text": [
            "100%|██████████| 5148/5148 [00:00<00:00, 26657132.09it/s]"
          ]
        },
        {
          "output_type": "stream",
          "name": "stdout",
          "text": [
            "Extracting ./data/FashionMNIST/raw/t10k-labels-idx1-ubyte.gz to ./data/FashionMNIST/raw\n",
            "\n",
            "Training set has 60000 instances\n",
            "Validation set has 10000 instances\n"
          ]
        },
        {
          "output_type": "stream",
          "name": "stderr",
          "text": [
            "\n"
          ]
        }
      ],
      "source": [
        "import torch\n",
        "import torchvision\n",
        "import torchvision.transforms as transforms\n",
        "\n",
        "# PyTorch TensorBoard support\n",
        "from torch.utils.tensorboard import SummaryWriter\n",
        "from datetime import datetime\n",
        "\n",
        "\n",
        "transform = transforms.Compose(\n",
        "    [transforms.ToTensor(),\n",
        "    transforms.Normalize((0.5,), (0.5,))])\n",
        "\n",
        "# Create datasets for training & validation, download if necessary\n",
        "training_set = torchvision.datasets.FashionMNIST('./data', train=True, transform=transform, download=True)\n",
        "validation_set = torchvision.datasets.FashionMNIST('./data', train=False, transform=transform, download=True)\n",
        "\n",
        "# Create data loaders for our datasets; shuffle for training, not for validation\n",
        "training_loader = torch.utils.data.DataLoader(training_set, batch_size=4, shuffle=True)\n",
        "validation_loader = torch.utils.data.DataLoader(validation_set, batch_size=4, shuffle=False)\n",
        "\n",
        "# Class labels\n",
        "classes = ('T-shirt/top', 'Trouser', 'Pullover', 'Dress', 'Coat',\n",
        "        'Sandal', 'Shirt', 'Sneaker', 'Bag', 'Ankle Boot')\n",
        "\n",
        "# Report split sizes\n",
        "print('Training set has {} instances'.format(len(training_set)))\n",
        "print('Validation set has {} instances'.format(len(validation_set)))"
      ]
    },
    {
      "cell_type": "markdown",
      "metadata": {
        "id": "C90ZHWj-1hK0"
      },
      "source": [
        "As always, let’s visualize the data as a sanity check:\n",
        "\n",
        "\n"
      ]
    },
    {
      "cell_type": "code",
      "execution_count": 3,
      "metadata": {
        "id": "UprTrl1K1hK1",
        "outputId": "c1cebd6b-0908-4516-d2b1-cf825f466bc1",
        "colab": {
          "base_uri": "https://localhost:8080/",
          "height": 211
        }
      },
      "outputs": [
        {
          "output_type": "stream",
          "name": "stdout",
          "text": [
            "Trouser  Trouser  Pullover  Bag\n"
          ]
        },
        {
          "output_type": "display_data",
          "data": {
            "text/plain": [
              "<Figure size 640x480 with 1 Axes>"
            ],
            "image/png": "[encoded data removed]"
          },
          "metadata": {}
        }
      ],
      "source": [
        "import matplotlib.pyplot as plt\n",
        "import numpy as np\n",
        "\n",
        "# Helper function for inline image display\n",
        "def matplotlib_imshow(img, one_channel=False):\n",
        "    if one_channel:\n",
        "        img = img.mean(dim=0)\n",
        "    img = img / 2 + 0.5     # unnormalize\n",
        "    npimg = img.numpy()\n",
        "    if one_channel:\n",
        "        plt.imshow(npimg, cmap=\"Greys\")\n",
        "    else:\n",
        "        plt.imshow(np.transpose(npimg, (1, 2, 0)))\n",
        "\n",
        "dataiter = iter(training_loader)\n",
        "images, labels = next(dataiter)\n",
        "\n",
        "# Create a grid from the images and show them\n",
        "img_grid = torchvision.utils.make_grid(images)\n",
        "matplotlib_imshow(img_grid, one_channel=True)\n",
        "print('  '.join(classes[labels[j]] for j in range(4)))"
      ]
    },
    {
      "cell_type": "markdown",
      "metadata": {
        "id": "wgAlox9o1hK2"
      },
      "source": [
        "## The Model\n",
        "\n",
        "The model we’ll use in this example is a variant of LeNet-5 - it should\n",
        "be familiar if you’ve watched the previous videos in this series.\n",
        "\n",
        "\n"
      ]
    },
    {
      "cell_type": "code",
      "execution_count": 4,
      "metadata": {
        "id": "YShNcgsG1hK3"
      },
      "outputs": [],
      "source": [
        "import torch.nn as nn\n",
        "import torch.nn.functional as F\n",
        "\n",
        "# PyTorch models inherit from torch.nn.Module\n",
        "class GarmentClassifier(nn.Module):\n",
        "    def __init__(self):\n",
        "        super(GarmentClassifier, self).__init__()\n",
        "        self.conv1 = nn.Conv2d(1, 6, 5)\n",
        "        self.pool = nn.MaxPool2d(2, 2)\n",
        "        self.conv2 = nn.Conv2d(6, 16, 5)\n",
        "        self.fc1 = nn.Linear(16 * 4 * 4, 120)\n",
        "        self.fc2 = nn.Linear(120, 84)\n",
        "        self.fc3 = nn.Linear(84, 10)\n",
        "\n",
        "    def forward(self, x):\n",
        "        x = self.pool(F.relu(self.conv1(x)))\n",
        "        x = self.pool(F.relu(self.conv2(x)))\n",
        "        x = x.view(-1, 16 * 4 * 4)\n",
        "        x = F.relu(self.fc1(x))\n",
        "        x = F.relu(self.fc2(x))\n",
        "        x = self.fc3(x)\n",
        "        return x\n",
        "\n",
        "\n",
        "model = GarmentClassifier()"
      ]
    },
    {
      "cell_type": "markdown",
      "metadata": {
        "id": "J4d1OUPJ1hK3"
      },
      "source": [
        "## Loss Function\n",
        "\n",
        "For this example, we’ll be using a cross-entropy loss. For demonstration\n",
        "purposes, we’ll create batches of dummy output and label values, run\n",
        "them through the loss function, and examine the result.\n",
        "\n",
        "\n"
      ]
    },
    {
      "cell_type": "code",
      "execution_count": 5,
      "metadata": {
        "id": "YCPPHFWU1hK4",
        "outputId": "e635201d-015e-4391-b415-d2cfc052def1",
        "colab": {
          "base_uri": "https://localhost:8080/"
        }
      },
      "outputs": [
        {
          "output_type": "stream",
          "name": "stdout",
          "text": [
            "tensor([[0.6556, 0.4700, 0.4913, 0.6193, 0.2222, 0.1024, 0.3228, 0.1284, 0.8568,\n",
            "         0.6375],\n",
            "        [0.1486, 0.2181, 0.3720, 0.2641, 0.0310, 0.1866, 0.4709, 0.3979, 0.4691,\n",
            "         0.3566],\n",
            "        [0.2790, 0.1885, 0.6820, 0.4353, 0.9920, 0.8347, 0.8377, 0.0357, 0.5091,\n",
            "         0.9059],\n",
            "        [0.7517, 0.6165, 0.3191, 0.2329, 0.6701, 0.6552, 0.1336, 0.9786, 0.9533,\n",
            "         0.4649]])\n",
            "tensor([1, 5, 3, 7])\n",
            "Total loss for this batch: 2.2877063751220703\n"
          ]
        }
      ],
      "source": [
        "loss_fn = torch.nn.CrossEntropyLoss()\n",
        "\n",
        "# NB: Loss functions expect data in batches, so we're creating batches of 4\n",
        "# Represents the model's confidence in each of the 10 classes for a given input\n",
        "dummy_outputs = torch.rand(4, 10)\n",
        "# Represents the correct class among the 10 being tested\n",
        "dummy_labels = torch.tensor([1, 5, 3, 7])\n",
        "\n",
        "print(dummy_outputs)\n",
        "print(dummy_labels)\n",
        "\n",
        "loss = loss_fn(dummy_outputs, dummy_labels)\n",
        "print('Total loss for this batch: {}'.format(loss.item()))"
      ]
    },
    {
      "cell_type": "markdown",
      "metadata": {
        "id": "tt3-x-wZ1hK6"
      },
      "source": [
        "## Optimizer\n",
        "\n",
        "For this example, we’ll be using simple [stochastic gradient\n",
        "descent](https://pytorch.org/docs/stable/optim.html)_ with momentum.\n",
        "\n",
        "It can be instructive to try some variations on this optimization\n",
        "scheme:\n",
        "\n",
        "- Learning rate determines the size of the steps the optimizer\n",
        "  takes. What does a different learning rate do to the your training\n",
        "  results, in terms of accuracy and convergence time?\n",
        "- Momentum nudges the optimizer in the direction of strongest gradient over\n",
        "  multiple steps. What does changing this value do to your results?\n",
        "- Try some different optimization algorithms, such as averaged SGD, Adagrad, or\n",
        "  Adam. How do your results differ?\n",
        "\n",
        "\n"
      ]
    },
    {
      "cell_type": "code",
      "execution_count": 6,
      "metadata": {
        "id": "fMxLda2J1hK6"
      },
      "outputs": [],
      "source": [
        "# Optimizers specified in the torch.optim package\n",
        "optimizer = torch.optim.SGD(model.parameters(), lr=0.001, momentum=0.9)"
      ]
    },
    {
      "cell_type": "markdown",
      "metadata": {
        "id": "29WeHoQ61hK7"
      },
      "source": [
        "## The Training Loop\n",
        "\n",
        "Below, we have a function that performs one training epoch. It\n",
        "enumerates data from the DataLoader, and on each pass of the loop does\n",
        "the following:\n",
        "\n",
        "- Gets a batch of training data from the DataLoader\n",
        "- Zeros the optimizer’s gradients\n",
        "- Performs an inference - that is, gets predictions from the model for an input batch\n",
        "- Calculates the loss for that set of predictions vs. the labels on the dataset\n",
        "- Calculates the backward gradients over the learning weights\n",
        "- Tells the optimizer to perform one learning step - that is, adjust the model’s\n",
        "  learning weights based on the observed gradients for this batch, according to the\n",
        "  optimization algorithm we chose\n",
        "- It reports on the loss for every 1000 batches.\n",
        "- Finally, it reports the average per-batch loss for the last\n",
        "  1000 batches, for comparison with a validation run\n",
        "\n",
        "\n"
      ]
    },
    {
      "cell_type": "code",
      "execution_count": 7,
      "metadata": {
        "id": "TD9jjzqc1hK8"
      },
      "outputs": [],
      "source": [
        "def train_one_epoch(epoch_index, tb_writer):\n",
        "    running_loss = 0.\n",
        "    last_loss = 0.\n",
        "\n",
        "    # Here, we use enumerate(training_loader) instead of\n",
        "    # iter(training_loader) so that we can track the batch\n",
        "    # index and do some intra-epoch reporting\n",
        "    for i, data in enumerate(training_loader):\n",
        "        # Every data instance is an input + label pair\n",
        "        inputs, labels = data\n",
        "\n",
        "        # Zero your gradients for every batch!\n",
        "        optimizer.zero_grad()\n",
        "\n",
        "        # Make predictions for this batch\n",
        "        outputs = model(inputs)\n",
        "\n",
        "        # Compute the loss and its gradients\n",
        "        loss = loss_fn(outputs, labels)\n",
        "        loss.backward()\n",
        "\n",
        "        # Adjust learning weights\n",
        "        optimizer.step()\n",
        "\n",
        "        # Gather data and report\n",
        "        running_loss += loss.item()\n",
        "        if i % 1000 == 999:\n",
        "            last_loss = running_loss / 1000 # loss per batch\n",
        "            print('  batch {} loss: {}'.format(i + 1, last_loss))\n",
        "            tb_x = epoch_index * len(training_loader) + i + 1\n",
        "            tb_writer.add_scalar('Loss/train', last_loss, tb_x)\n",
        "            running_loss = 0.\n",
        "\n",
        "    return last_loss"
      ]
    },
    {
      "cell_type": "markdown",
      "metadata": {
        "id": "g6D4j4_Y1hK8"
      },
      "source": [
        "### Per-Epoch Activity\n",
        "\n",
        "There are a couple of things we’ll want to do once per epoch:\n",
        "\n",
        "- Perform validation by checking our relative loss on a set of data that was not\n",
        "  used for training, and report this\n",
        "- Save a copy of the model\n",
        "\n",
        "Here, we’ll do our reporting in TensorBoard. This will require going to\n",
        "the command line to start TensorBoard, and opening it in another browser\n",
        "tab.\n",
        "\n",
        "\n"
      ]
    },
    {
      "cell_type": "code",
      "execution_count": 8,
      "metadata": {
        "id": "vXnG4ZR61hK9",
        "outputId": "d39f29d9-2721-491b-f5ac-be26b9a942de",
        "colab": {
          "base_uri": "https://localhost:8080/"
        }
      },
      "outputs": [
        {
          "output_type": "stream",
          "name": "stdout",
          "text": [
            "EPOCH 1:\n",
            "  batch 1000 loss: 1.7253295873701573\n",
            "  batch 2000 loss: 0.8668037377484142\n",
            "  batch 3000 loss: 0.7375814344706014\n",
            "  batch 4000 loss: 0.6665789514351637\n",
            "  batch 5000 loss: 0.5901708303687628\n",
            "  batch 6000 loss: 0.5372110640021274\n",
            "  batch 7000 loss: 0.507116527171107\n",
            "  batch 8000 loss: 0.5179604027669411\n",
            "  batch 9000 loss: 0.48869216748618055\n",
            "  batch 10000 loss: 0.4716422830968513\n",
            "  batch 11000 loss: 0.4616438656921382\n",
            "  batch 12000 loss: 0.43957631332735764\n",
            "  batch 13000 loss: 0.45169475037185475\n",
            "  batch 14000 loss: 0.42275909217156005\n",
            "  batch 15000 loss: 0.41573973724228563\n",
            "LOSS train 0.41573973724228563 valid 0.43627676367759705\n",
            "EPOCH 2:\n",
            "  batch 1000 loss: 0.40458270676562097\n",
            "  batch 2000 loss: 0.39656651876459365\n",
            "  batch 3000 loss: 0.3792083919621946\n",
            "  batch 4000 loss: 0.396241280310729\n",
            "  batch 5000 loss: 0.3925121791920392\n",
            "  batch 6000 loss: 0.3686494063731225\n",
            "  batch 7000 loss: 0.3761777275871136\n",
            "  batch 8000 loss: 0.3560823166066548\n",
            "  batch 9000 loss: 0.3727354721625743\n",
            "  batch 10000 loss: 0.3388286066786677\n",
            "  batch 11000 loss: 0.32407348244899187\n",
            "  batch 12000 loss: 0.3404354924230138\n",
            "  batch 13000 loss: 0.3471920033198985\n",
            "  batch 14000 loss: 0.3427500972125308\n",
            "  batch 15000 loss: 0.353727181012393\n",
            "LOSS train 0.353727181012393 valid 0.35093066096305847\n",
            "EPOCH 3:\n",
            "  batch 1000 loss: 0.31451319625106405\n",
            "  batch 2000 loss: 0.3215450241803628\n",
            "  batch 3000 loss: 0.30649535615845525\n",
            "  batch 4000 loss: 0.3261160881320829\n",
            "  batch 5000 loss: 0.33655065172086324\n",
            "  batch 6000 loss: 0.3244681750995369\n",
            "  batch 7000 loss: 0.31767971666723316\n",
            "  batch 8000 loss: 0.3267963011484535\n",
            "  batch 9000 loss: 0.3282310161348214\n",
            "  batch 10000 loss: 0.31603451339356253\n",
            "  batch 11000 loss: 0.3049295883462619\n",
            "  batch 12000 loss: 0.30476222287627025\n",
            "  batch 13000 loss: 0.32528715833456956\n",
            "  batch 14000 loss: 0.31428892694059324\n",
            "  batch 15000 loss: 0.32093229850568605\n",
            "LOSS train 0.32093229850568605 valid 0.34096476435661316\n",
            "EPOCH 4:\n",
            "  batch 1000 loss: 0.2868069276031747\n",
            "  batch 2000 loss: 0.2976945329187292\n",
            "  batch 3000 loss: 0.30862525782395095\n",
            "  batch 4000 loss: 0.28876180680077235\n",
            "  batch 5000 loss: 0.3008033691684395\n",
            "  batch 6000 loss: 0.2835822989192111\n",
            "  batch 7000 loss: 0.293359496550067\n",
            "  batch 8000 loss: 0.2882000151015527\n",
            "  batch 9000 loss: 0.30309479846424076\n",
            "  batch 10000 loss: 0.295918678029353\n",
            "  batch 11000 loss: 0.2853079994676882\n",
            "  batch 12000 loss: 0.30195196071806457\n",
            "  batch 13000 loss: 0.28382684772279365\n",
            "  batch 14000 loss: 0.2928557441433004\n",
            "  batch 15000 loss: 0.2793746916099335\n",
            "LOSS train 0.2793746916099335 valid 0.3105555474758148\n",
            "EPOCH 5:\n",
            "  batch 1000 loss: 0.27237028392965296\n",
            "  batch 2000 loss: 0.27531231363904224\n",
            "  batch 3000 loss: 0.2728636994276403\n",
            "  batch 4000 loss: 0.2982692483323481\n",
            "  batch 5000 loss: 0.27127383967596663\n",
            "  batch 6000 loss: 0.270463824230108\n",
            "  batch 7000 loss: 0.27548708332187016\n",
            "  batch 8000 loss: 0.2637236970897939\n",
            "  batch 9000 loss: 0.27726820355817655\n",
            "  batch 10000 loss: 0.26662063584463613\n",
            "  batch 11000 loss: 0.2734600598319776\n",
            "  batch 12000 loss: 0.2699414232651443\n",
            "  batch 13000 loss: 0.28099886267934016\n",
            "  batch 14000 loss: 0.27286724518818667\n",
            "  batch 15000 loss: 0.2862003174159436\n",
            "LOSS train 0.2862003174159436 valid 0.30460309982299805\n"
          ]
        }
      ],
      "source": [
        "# Initializing in a separate cell so we can easily add more epochs to the same run\n",
        "timestamp = datetime.now().strftime('%Y%m%d_%H%M%S')\n",
        "writer = SummaryWriter('runs/fashion_trainer_{}'.format(timestamp))\n",
        "epoch_number = 0\n",
        "\n",
        "EPOCHS = 5\n",
        "\n",
        "best_vloss = 1_000_000.\n",
        "\n",
        "for epoch in range(EPOCHS):\n",
        "    print('EPOCH {}:'.format(epoch_number + 1))\n",
        "\n",
        "    # Make sure gradient tracking is on, and do a pass over the data\n",
        "    model.train(True)\n",
        "    avg_loss = train_one_epoch(epoch_number, writer)\n",
        "\n",
        "\n",
        "    running_vloss = 0.0\n",
        "    # Set the model to evaluation mode, disabling dropout and using population\n",
        "    # statistics for batch normalization.\n",
        "    model.eval()\n",
        "\n",
        "    # Disable gradient computation and reduce memory consumption.\n",
        "    with torch.no_grad():\n",
        "        for i, vdata in enumerate(validation_loader):\n",
        "            vinputs, vlabels = vdata\n",
        "            voutputs = model(vinputs)\n",
        "            vloss = loss_fn(voutputs, vlabels)\n",
        "            running_vloss += vloss\n",
        "\n",
        "    avg_vloss = running_vloss / (i + 1)\n",
        "    print('LOSS train {} valid {}'.format(avg_loss, avg_vloss))\n",
        "\n",
        "    # Log the running loss averaged per batch\n",
        "    # for both training and validation\n",
        "    writer.add_scalars('Training vs. Validation Loss',\n",
        "                    { 'Training' : avg_loss, 'Validation' : avg_vloss },\n",
        "                    epoch_number + 1)\n",
        "    writer.flush()\n",
        "\n",
        "    # Track best performance, and save the model's state\n",
        "    if avg_vloss < best_vloss:\n",
        "        best_vloss = avg_vloss\n",
        "        model_path = 'model_{}_{}'.format(timestamp, epoch_number)\n",
        "        torch.save(model.state_dict(), model_path)\n",
        "\n",
        "    epoch_number += 1"
      ]
    },
    {
      "cell_type": "markdown",
      "metadata": {
        "id": "FRNPxsDA1hK9"
      },
      "source": [
        "To load a saved version of the model:\n",
        "\n",
        ".. code:: python\n",
        "\n",
        "    saved_model = GarmentClassifier()\n",
        "    saved_model.load_state_dict(torch.load(PATH))\n",
        "\n",
        "Once you’ve loaded the model, it’s ready for whatever you need it for -\n",
        "more training, inference, or analysis.\n",
        "\n",
        "Note that if your model has constructor parameters that affect model\n",
        "structure, you’ll need to provide them and configure the model\n",
        "identically to the state in which it was saved.\n",
        "\n",
        "## Other Resources\n",
        "\n",
        "-  Docs on the [data\n",
        "   utilities](https://pytorch.org/docs/stable/data.html)_, including\n",
        "   Dataset and DataLoader, at pytorch.org\n",
        "-  A [note on the use of pinned\n",
        "   memory](https://pytorch.org/docs/stable/notes/cuda.html#cuda-memory-pinning)_\n",
        "   for GPU training\n",
        "-  Documentation on the datasets available in\n",
        "   [TorchVision](https://pytorch.org/vision/stable/datasets.html)_,\n",
        "   [TorchText](https://pytorch.org/text/stable/datasets.html)_, and\n",
        "   [TorchAudio](https://pytorch.org/audio/stable/datasets.html)_\n",
        "-  Documentation on the [loss\n",
        "   functions](https://pytorch.org/docs/stable/nn.html#loss-functions)_\n",
        "   available in PyTorch\n",
        "-  Documentation on the [torch.optim\n",
        "   package](https://pytorch.org/docs/stable/optim.html)_, which\n",
        "   includes optimizers and related tools, such as learning rate\n",
        "   scheduling\n",
        "-  A detailed [tutorial on saving and loading\n",
        "   models](https://pytorch.org/tutorials/beginner/saving_loading_models.html)_\n",
        "-  The [Tutorials section of\n",
        "   pytorch.org](https://pytorch.org/tutorials/)_ contains tutorials on\n",
        "   a broad variety of training tasks, including classification in\n",
        "   different domains, generative adversarial networks, reinforcement\n",
        "   learning, and more\n",
        "\n",
        "\n"
      ]
    }
  ],
  "metadata": {
    "kernelspec": {
      "display_name": "Python 3",
      "language": "python",
      "name": "python3"
    },
    "language_info": {
      "codemirror_mode": {
        "name": "ipython",
        "version": 3
      },
      "file_extension": ".py",
      "mimetype": "text/x-python",
      "name": "python",
      "nbconvert_exporter": "python",
      "pygments_lexer": "ipython3",
      "version": "3.10.13"
    },
    "colab": {
      "provenance": []
    }
  },
  "nbformat": 4,
  "nbformat_minor": 0
}